{
 "cells": [
  {
   "cell_type": "markdown",
   "metadata": {
    "id": "jL6proKZHyCd"
   },
   "source": [
    "В этой практической работе три обязательные задачи и одна дополнительная.\n",
    "\n",
    "*Обязательные задачи* нужно сделать для того, чтобы проверить, что вы действительно усвоили материал модуля. Сдайте их на проверку.\n",
    "\n",
    "*Дополнительная задача* для тех, кто чувствует, что нужно ещё немного потренироваться в подборе правильных критериев для проверки гипотез. Вы также можете сдать её на проверку и получить обратную связь.\n",
    "\n",
    "Удачи!"
   ]
  },
  {
   "cell_type": "markdown",
   "metadata": {
    "id": "BLJbZ5gzH9Vg"
   },
   "source": [
    "## Цели практической работы\n",
    "\n",
    "Проверить:\n",
    "*   постановку нулевых и альтернативных гипотез,\n",
    "*   выбор статистического критерия для проверки гипотез,\n",
    "*   умение пользоваться Т-критериями,\n",
    "*   умение пользоваться непараметрическими критериями.\n",
    "\n",
    "Потренироваться в постановке односторонних и двусторонних тестов."
   ]
  },
  {
   "cell_type": "markdown",
   "metadata": {
    "id": "jN1RM6fZK5DI"
   },
   "source": [
    "## Что оценивается\n",
    "\n",
    "*   Все условия для применения критерия проверены.\n",
    "*   Применение того или иного критерия обосновано текстом.\n",
    "*   В каждой задаче присутствует текстовое объяснение почему нулевая гипотеза не может быть отвергнута.\n",
    "\n",
    "\n"
   ]
  },
  {
   "cell_type": "markdown",
   "metadata": {
    "id": "ZOTe8UqSUBmb"
   },
   "source": [
    "## Как отправить работу на проверку\n",
    "Сдайте практическую работу этого модуля через систему контроля версий Git сервиса Skillbox GitLab. После загрузки работы на проверку напишите об этом в личном кабинете своему куратору.\n"
   ]
  },
  {
   "cell_type": "markdown",
   "metadata": {
    "id": "bOgTruI9KsMk"
   },
   "source": [
    "##Обязательные задачи"
   ]
  },
  {
   "cell_type": "markdown",
   "metadata": {
    "id": "bG_LS69wLHlU"
   },
   "source": [
    "*Задача 1*\n",
    "\n",
    "Студентов с одним и тем же начальным уровнем английского языка поделили на две группы. Одну группу учили по методике X, а другую по методике Y. После прохождения обучения им дали одинаковые финальные тесты на знание языка. За тест можно получить от 0 до 100 баллов. Проверьте, являются ли статистически значимыми различия в оценках между группой, которая училась по методике X, и группой, которая училась по методике Y.\n",
    "______________\n",
    "Опишите словами нулевую и альтернативную гипотезы. Проверьте гипотезы с помощью статистического критерия. Интерпретируйте получившиеся результаты. Уровень значимости = 5%."
   ]
  },
  {
   "cell_type": "markdown",
   "metadata": {
    "id": "gXhHbVOdSfFQ"
   },
   "source": [
    "Нулевая гипотеза:  Методика обучения никак не влияет на результат усвоения учебного материала по английскому языку.\n",
    "\n",
    "Альтернативная гипотеза: Методика обучения влияет на результат усвоения учебного материала по английскому языку."
   ]
  },
  {
   "cell_type": "code",
   "execution_count": 36,
   "metadata": {
    "colab": {
     "base_uri": "https://localhost:8080/",
     "height": 206
    },
    "id": "KtWhOWs0S4gu",
    "outputId": "6653afc9-68f4-4941-b1d9-7dcf7e01b97f"
   },
   "outputs": [
    {
     "data": {
      "text/html": [
       "<div>\n",
       "<style scoped>\n",
       "    .dataframe tbody tr th:only-of-type {\n",
       "        vertical-align: middle;\n",
       "    }\n",
       "\n",
       "    .dataframe tbody tr th {\n",
       "        vertical-align: top;\n",
       "    }\n",
       "\n",
       "    .dataframe thead th {\n",
       "        text-align: right;\n",
       "    }\n",
       "</style>\n",
       "<table border=\"1\" class=\"dataframe\">\n",
       "  <thead>\n",
       "    <tr style=\"text-align: right;\">\n",
       "      <th></th>\n",
       "      <th>X</th>\n",
       "      <th>Y</th>\n",
       "    </tr>\n",
       "  </thead>\n",
       "  <tbody>\n",
       "    <tr>\n",
       "      <th>0</th>\n",
       "      <td>57</td>\n",
       "      <td>64</td>\n",
       "    </tr>\n",
       "    <tr>\n",
       "      <th>1</th>\n",
       "      <td>67</td>\n",
       "      <td>67</td>\n",
       "    </tr>\n",
       "    <tr>\n",
       "      <th>2</th>\n",
       "      <td>58</td>\n",
       "      <td>62</td>\n",
       "    </tr>\n",
       "    <tr>\n",
       "      <th>3</th>\n",
       "      <td>55</td>\n",
       "      <td>59</td>\n",
       "    </tr>\n",
       "    <tr>\n",
       "      <th>4</th>\n",
       "      <td>54</td>\n",
       "      <td>65</td>\n",
       "    </tr>\n",
       "  </tbody>\n",
       "</table>\n",
       "</div>"
      ],
      "text/plain": [
       "    X   Y\n",
       "0  57  64\n",
       "1  67  67\n",
       "2  58  62\n",
       "3  55  59\n",
       "4  54  65"
      ]
     },
     "execution_count": 36,
     "metadata": {},
     "output_type": "execute_result"
    }
   ],
   "source": [
    "import pandas as pd\n",
    "from scipy import stats\n",
    "\n",
    "df = pd.read_csv('data/hw1.csv')\n",
    "df.head()"
   ]
  },
  {
   "cell_type": "code",
   "execution_count": 37,
   "metadata": {
    "id": "U_3vxsvIU9W_"
   },
   "outputs": [
    {
     "data": {
      "text/plain": [
       "ShapiroResult(statistic=0.9843732118606567, pvalue=0.28595027327537537)"
      ]
     },
     "execution_count": 37,
     "metadata": {},
     "output_type": "execute_result"
    }
   ],
   "source": [
    "# Ваш код здесь\n",
    "stats.shapiro(df.X)\n",
    "#Т.к. p-value = 0.28595027327537537, это намного больше уровня значимости в 5%, то данные в группе X распределены нормально"
   ]
  },
  {
   "cell_type": "code",
   "execution_count": 38,
   "metadata": {},
   "outputs": [
    {
     "data": {
      "text/plain": [
       "ShapiroResult(statistic=0.986426591873169, pvalue=0.4002350866794586)"
      ]
     },
     "execution_count": 38,
     "metadata": {},
     "output_type": "execute_result"
    }
   ],
   "source": [
    "stats.shapiro(df.Y)\n",
    "#Т.к. p-value = 0.4002350866794586, это намного больше уровня значимости в 5%, то данные в группе Y распределены нормально"
   ]
  },
  {
   "cell_type": "code",
   "execution_count": 39,
   "metadata": {},
   "outputs": [
    {
     "data": {
      "text/plain": [
       "LeveneResult(statistic=21.696306698497402, pvalue=5.850812069599258e-06)"
      ]
     },
     "execution_count": 39,
     "metadata": {},
     "output_type": "execute_result"
    }
   ],
   "source": [
    "# Далее проверяем равенство дисперсий двух выборок, для этого используем статистический тест Левена\n",
    "stats.levene(df.X, df.Y)\n",
    "#Т.к. получившаяся величина pvalue=5.850812069599258e-06, значительно меньше уровня значимости в 5%, \n",
    "#то дисперсии двух выборок не равны. Также эти выборки не являются зависимыми, т.к. разные студенты находились в разных группах."
   ]
  },
  {
   "cell_type": "code",
   "execution_count": 40,
   "metadata": {},
   "outputs": [
    {
     "data": {
      "text/plain": [
       "TtestResult(statistic=-0.6292883911384963, pvalue=0.5300187896437802, df=167.2694203798624)"
      ]
     },
     "execution_count": 40,
     "metadata": {},
     "output_type": "execute_result"
    }
   ],
   "source": [
    "#Для проверки нулевой гипотезы используем модифицированный критерий Стьюдента для выборок с неравными \n",
    "#дисперсиями и two-tailed test\n",
    "stats.ttest_ind(df.X, df.Y, equal_var = False)\n",
    "#Т.к. получившаяся величина pvalue=0.5300187896437802, значительно выше уровня значимости в 5%, \n",
    "#то мы не можем отклонить нулевую гипотезу. Таким образом, не существует статистически значимых различий в методиках."
   ]
  },
  {
   "cell_type": "markdown",
   "metadata": {
    "id": "XXDqTE7XVk8f"
   },
   "source": [
    "*Задача 2*\n",
    "\n",
    "Ученые придумали добавку для уменьшения веса за две недели. Для проведения эксперимента и проверки добавки набрали тестовую группу из 60 человек. Было произведено два замера веса: один до приема добавок, другой после двухнедельного курса. Изучите данные и сделайте вывод, значимо или незначимо уменьшился вес у тестовой группы.\n",
    "\n",
    "______________\n",
    "Опишите словами нулевую и альтернативную гипотезы. Проверьте гипотезы с помощью статистического критерия. Интерпретируйте получившиеся результаты. Уровень значимости = 5%."
   ]
  },
  {
   "cell_type": "markdown",
   "metadata": {
    "id": "qvgKE4U-YPPK"
   },
   "source": [
    "Нулевая гипотеза:  Приём добавки никак не влияет на массу тела человека.\n",
    "\n",
    "Альтернативная гипотеза: Приемки добавки приводит к уменьшению массы тела человека."
   ]
  },
  {
   "cell_type": "code",
   "execution_count": 41,
   "metadata": {
    "colab": {
     "base_uri": "https://localhost:8080/",
     "height": 206
    },
    "id": "ccpF8rNhY63i",
    "outputId": "26ca18a8-75f0-4002-b529-1c538e9d1429"
   },
   "outputs": [
    {
     "data": {
      "text/html": [
       "<div>\n",
       "<style scoped>\n",
       "    .dataframe tbody tr th:only-of-type {\n",
       "        vertical-align: middle;\n",
       "    }\n",
       "\n",
       "    .dataframe tbody tr th {\n",
       "        vertical-align: top;\n",
       "    }\n",
       "\n",
       "    .dataframe thead th {\n",
       "        text-align: right;\n",
       "    }\n",
       "</style>\n",
       "<table border=\"1\" class=\"dataframe\">\n",
       "  <thead>\n",
       "    <tr style=\"text-align: right;\">\n",
       "      <th></th>\n",
       "      <th>before</th>\n",
       "      <th>after</th>\n",
       "    </tr>\n",
       "  </thead>\n",
       "  <tbody>\n",
       "    <tr>\n",
       "      <th>0</th>\n",
       "      <td>66</td>\n",
       "      <td>68</td>\n",
       "    </tr>\n",
       "    <tr>\n",
       "      <th>1</th>\n",
       "      <td>68</td>\n",
       "      <td>68</td>\n",
       "    </tr>\n",
       "    <tr>\n",
       "      <th>2</th>\n",
       "      <td>59</td>\n",
       "      <td>60</td>\n",
       "    </tr>\n",
       "    <tr>\n",
       "      <th>3</th>\n",
       "      <td>64</td>\n",
       "      <td>62</td>\n",
       "    </tr>\n",
       "    <tr>\n",
       "      <th>4</th>\n",
       "      <td>75</td>\n",
       "      <td>71</td>\n",
       "    </tr>\n",
       "  </tbody>\n",
       "</table>\n",
       "</div>"
      ],
      "text/plain": [
       "   before  after\n",
       "0      66     68\n",
       "1      68     68\n",
       "2      59     60\n",
       "3      64     62\n",
       "4      75     71"
      ]
     },
     "execution_count": 41,
     "metadata": {},
     "output_type": "execute_result"
    }
   ],
   "source": [
    "df2 = pd.read_csv('data/hw2.csv')\n",
    "df2.head()"
   ]
  },
  {
   "cell_type": "code",
   "execution_count": 42,
   "metadata": {
    "id": "mXcCNKPHm6mm"
   },
   "outputs": [
    {
     "data": {
      "text/plain": [
       "ShapiroResult(statistic=0.9824519157409668, pvalue=0.5405431389808655)"
      ]
     },
     "execution_count": 42,
     "metadata": {},
     "output_type": "execute_result"
    }
   ],
   "source": [
    "# Ваш код здесь\n",
    "stats.shapiro(df2.before)\n",
    "#Т.к. p-value = 0.5405431389808655, это намного больше уровня значимости в 5%, то данные в колонке before распределены нормально"
   ]
  },
  {
   "cell_type": "code",
   "execution_count": 43,
   "metadata": {},
   "outputs": [
    {
     "data": {
      "text/plain": [
       "ShapiroResult(statistic=0.9882315397262573, pvalue=0.8322148323059082)"
      ]
     },
     "execution_count": 43,
     "metadata": {},
     "output_type": "execute_result"
    }
   ],
   "source": [
    "stats.shapiro(df2.after)\n",
    "#Т.к. p-value = 0.8322148323059082, это намного больше уровня значимости в 5%, то данные в колонке before распределены нормально"
   ]
  },
  {
   "cell_type": "code",
   "execution_count": 44,
   "metadata": {},
   "outputs": [
    {
     "data": {
      "text/plain": [
       "LeveneResult(statistic=0.8844472204871947, pvalue=0.3489077384470678)"
      ]
     },
     "execution_count": 44,
     "metadata": {},
     "output_type": "execute_result"
    }
   ],
   "source": [
    "# Далее проверяем равенство дисперсий двух выборок, для этого используем статистический тест Левена\n",
    "\n",
    "stats.levene(df2.before, df2.after)\n",
    "\n",
    "#Т.к. получившаяся величина pvalue=0.3489077384470678, значительно выше уровня значимости в 5%, \n",
    "#то дисперсии двух выборок равны. Также эти выборки являются зависимыми, т.к. в двух колонках данных представлены \n",
    "#значения для одних и тех же людей."
   ]
  },
  {
   "cell_type": "code",
   "execution_count": 54,
   "metadata": {},
   "outputs": [
    {
     "data": {
      "text/plain": [
       "TtestResult(statistic=-2.055925757507072, pvalue=0.04422270009602042, df=59)"
      ]
     },
     "execution_count": 54,
     "metadata": {},
     "output_type": "execute_result"
    }
   ],
   "source": [
    "#Т.к. выборки распределены нормально и являются зависимыми, то для проверки гипотезы воспользуемся парным Т-критерием. \n",
    "#Для этого, будем сравнивать значение массы тела человека после приёма добавки и до приема добавки. \n",
    "#Т.к. после приема добавки масса тела человека должна уменьшиться до параметр alternative = 'less'. Это означает, что значение в\n",
    "#колонке после должно быть меньше, чем в колонке до.\n",
    "\n",
    "stats.ttest_rel(df2.after, df2.before, alternative ='less')\n",
    "\n",
    "#Т.к. pvalue=0.02211135004801021 меньше порога значимости, то мы отвергаем альтернативную гипотезу и принимаем нулевую гипотезу.\n",
    "#Т.е. прием добавки не влияет на массу тела человека. Это также видно из таблицы. У трех пользователей из 5 масса либо \n",
    "#не изменилась, либо увеличилась. У двух остальных пользователей она немного уменьшилась."
   ]
  },
  {
   "cell_type": "markdown",
   "metadata": {
    "id": "ZluM1nuLm2zT"
   },
   "source": [
    "*Задача 3*\n",
    "\n",
    "Вы работаете аналитиком в приложении, которое собирает новости по интересам пользователя. Например, если пользователь увлечен книгами,  то приложение будет собирать ему самые свежие новости по новым книгам. Вы заметили, что пользователи редко посещают ваше приложение, а вам хотелось бы поднять их активность и видеть, что они заходят в приложение каждый день или еще чаще. То есть поднять их заинтересованность. \n",
    "\n",
    "Вы и группа разработки решили присылать уведомления раз в день с самой популярной новостью по тематикам пользователя. Теперь вам нужно проверить, что эта гипотеза сработала, и заинтересованность пользователя выросла.\n",
    "______________________\n",
    "В датасете для каждого пользователя указано, сколько раз в неделю он заходил до появления уведомлений (колонка `before`) и сколько раз в неделю он стал заходить в приложение после появления уведомлений (колонка `after`)\n",
    "______________\n",
    "Опишите словами нулевую и альтернативную гипотезы. Проверьте гипотезы с помощью статистического критерия. Интерпретируйте получившиеся результаты. Уровень значимости = 5%."
   ]
  },
  {
   "cell_type": "markdown",
   "metadata": {
    "id": "VaHETRjVwoO_"
   },
   "source": [
    "Нулевая гипотеза:  Рассылка уведомлений никак не влияет на активность использования приложения пользователем.\n",
    "\n",
    "Альтернативная гипотеза: Рассылка уведомлений увеличивает активность использования приложения пользователем."
   ]
  },
  {
   "cell_type": "code",
   "execution_count": 46,
   "metadata": {
    "colab": {
     "base_uri": "https://localhost:8080/",
     "height": 206
    },
    "id": "iyF3jIbExrb9",
    "outputId": "81123aab-bdf5-4e5c-a94f-ce5e1c65486e"
   },
   "outputs": [
    {
     "data": {
      "text/html": [
       "<div>\n",
       "<style scoped>\n",
       "    .dataframe tbody tr th:only-of-type {\n",
       "        vertical-align: middle;\n",
       "    }\n",
       "\n",
       "    .dataframe tbody tr th {\n",
       "        vertical-align: top;\n",
       "    }\n",
       "\n",
       "    .dataframe thead th {\n",
       "        text-align: right;\n",
       "    }\n",
       "</style>\n",
       "<table border=\"1\" class=\"dataframe\">\n",
       "  <thead>\n",
       "    <tr style=\"text-align: right;\">\n",
       "      <th></th>\n",
       "      <th>id</th>\n",
       "      <th>before</th>\n",
       "      <th>after</th>\n",
       "    </tr>\n",
       "  </thead>\n",
       "  <tbody>\n",
       "    <tr>\n",
       "      <th>0</th>\n",
       "      <td>15</td>\n",
       "      <td>3</td>\n",
       "      <td>11</td>\n",
       "    </tr>\n",
       "    <tr>\n",
       "      <th>1</th>\n",
       "      <td>7</td>\n",
       "      <td>6</td>\n",
       "      <td>13</td>\n",
       "    </tr>\n",
       "    <tr>\n",
       "      <th>2</th>\n",
       "      <td>6</td>\n",
       "      <td>3</td>\n",
       "      <td>8</td>\n",
       "    </tr>\n",
       "    <tr>\n",
       "      <th>3</th>\n",
       "      <td>13</td>\n",
       "      <td>1</td>\n",
       "      <td>14</td>\n",
       "    </tr>\n",
       "    <tr>\n",
       "      <th>4</th>\n",
       "      <td>11</td>\n",
       "      <td>3</td>\n",
       "      <td>4</td>\n",
       "    </tr>\n",
       "  </tbody>\n",
       "</table>\n",
       "</div>"
      ],
      "text/plain": [
       "   id  before  after\n",
       "0  15       3     11\n",
       "1   7       6     13\n",
       "2   6       3      8\n",
       "3  13       1     14\n",
       "4  11       3      4"
      ]
     },
     "execution_count": 46,
     "metadata": {},
     "output_type": "execute_result"
    }
   ],
   "source": [
    "df3 = pd.read_csv('data/hw3.csv')\n",
    "df3.head()"
   ]
  },
  {
   "cell_type": "code",
   "execution_count": 47,
   "metadata": {
    "id": "UrAZs5og1hsM"
   },
   "outputs": [
    {
     "data": {
      "text/plain": [
       "ShapiroResult(statistic=0.9109631180763245, pvalue=0.0011287853121757507)"
      ]
     },
     "execution_count": 47,
     "metadata": {},
     "output_type": "execute_result"
    }
   ],
   "source": [
    "# Ваш код здесь\n",
    "#Проверим гипотезу о нормальности распределения данных в колонике before\n",
    "\n",
    "stats.shapiro(df3.before)\n",
    "\n",
    "#Т.к. p-value = 0.0011287853121757507, это намного меньше уровня значимости в 5%, то данные в колонке before \n",
    "#не распределены нормально"
   ]
  },
  {
   "cell_type": "code",
   "execution_count": 48,
   "metadata": {},
   "outputs": [
    {
     "data": {
      "text/plain": [
       "ShapiroResult(statistic=0.9323503375053406, pvalue=0.006789296865463257)"
      ]
     },
     "execution_count": 48,
     "metadata": {},
     "output_type": "execute_result"
    }
   ],
   "source": [
    "#Проверим гипотезу о нормальности распределения данных в колонике after\n",
    "\n",
    "\n",
    "stats.shapiro(df3.after)\n",
    "\n",
    "#Т.к. p-value = 0.006789296865463257, это намного меньше уровня значимости в 5%, то данные в колонке before \n",
    "#не распределены нормально"
   ]
  },
  {
   "cell_type": "code",
   "execution_count": 49,
   "metadata": {},
   "outputs": [
    {
     "data": {
      "text/plain": [
       "LeveneResult(statistic=42.64487284659558, pvalue=2.9300887081975536e-09)"
      ]
     },
     "execution_count": 49,
     "metadata": {},
     "output_type": "execute_result"
    }
   ],
   "source": [
    "#Далее проверим гипотезу о равенстве дисперсий в выборках используя тест Левена\n",
    "\n",
    "stats.levene(df3.before, df3.after)\n",
    "\n",
    "#Т.к. получившаяся величина pvalue=2.9300887081975536e-09, значительно меньше уровня значимости в 5%, \n",
    "#то дисперсии двух выборок не равны. Также эти выборки являются зависимыми, т.к. в двух колонках данных представлены \n",
    "#значения для одних и тех же людей."
   ]
  },
  {
   "cell_type": "code",
   "execution_count": 60,
   "metadata": {},
   "outputs": [
    {
     "data": {
      "text/plain": [
       "WilcoxonResult(statistic=161.5, pvalue=3.3344825568517646e-05)"
      ]
     },
     "execution_count": 60,
     "metadata": {},
     "output_type": "execute_result"
    }
   ],
   "source": [
    "#Т.к. данные в двух колонках не подчиняются нормальному закону распределения и выборки зависимы, \n",
    "#то для проверки нулевой гипотезы воспользуемся ранговым тестом Вилкоксона.\n",
    "\n",
    "stats.wilcoxon(df3.before, df3.after)\n",
    "\n",
    "#Т.к. величина pvalue=3.3344825568517646e-05 является очень маленькой, то мы отклоняем нулевую гипотезу. \n",
    "#Т.е. в ранговом критерии Вилкоксона проверяется нулевая гипотеза, что две зависимые выборки исходят из одного распределения.\n",
    "#Получившееся значение pvalue говрит о том, что распределение выборок различные, следовательно, нулевая гипотеза не подтвердилась."
   ]
  },
  {
   "cell_type": "markdown",
   "metadata": {
    "id": "VqjPEqao1kgH"
   },
   "source": [
    "## Дополнительная задача"
   ]
  },
  {
   "cell_type": "markdown",
   "metadata": {
    "id": "9nUKkn9J1ut-"
   },
   "source": [
    "*Задача 4*\n",
    "\n",
    "Компания X тестирует продажу своего продукта через два разных сайта. На оба сайта приходит одинаковое количество пользователей. Причем выборки пользователей не пересекаются, то есть если пользователь увидел сайт 1, он уже не посетит сайт 2. Проверьте гипотезу, что средний чек по пользователям на сайте 1 отличается от среднего чека пользователей на сайте 2 (период сравнения — один месяц).\n",
    "\n",
    "Опишите словами нулевую и альтернативную гипотезы. Проверьте гипотезы с помощью статистического критерия. Интерпретируйте получившиеся результаты. Уровень значимости = 5%."
   ]
  },
  {
   "cell_type": "markdown",
   "metadata": {
    "id": "eZJF5ENq4MT8"
   },
   "source": [
    "Нулевая гипотеза: Средний чек по пользователям на сайте 1 не отличается от среднего чека по пользователям на сайте 2.\n",
    "\n",
    "Альтернативная гипотеза:Средний чек по пользователям на сайте 1 выше среднего чека по польователям на сайте 2."
   ]
  },
  {
   "cell_type": "code",
   "execution_count": 61,
   "metadata": {
    "id": "S2LOrCU2PYoD"
   },
   "outputs": [
    {
     "data": {
      "text/html": [
       "<div>\n",
       "<style scoped>\n",
       "    .dataframe tbody tr th:only-of-type {\n",
       "        vertical-align: middle;\n",
       "    }\n",
       "\n",
       "    .dataframe tbody tr th {\n",
       "        vertical-align: top;\n",
       "    }\n",
       "\n",
       "    .dataframe thead th {\n",
       "        text-align: right;\n",
       "    }\n",
       "</style>\n",
       "<table border=\"1\" class=\"dataframe\">\n",
       "  <thead>\n",
       "    <tr style=\"text-align: right;\">\n",
       "      <th></th>\n",
       "      <th>site1</th>\n",
       "      <th>site2</th>\n",
       "    </tr>\n",
       "  </thead>\n",
       "  <tbody>\n",
       "    <tr>\n",
       "      <th>0</th>\n",
       "      <td>193</td>\n",
       "      <td>720</td>\n",
       "    </tr>\n",
       "    <tr>\n",
       "      <th>1</th>\n",
       "      <td>8426</td>\n",
       "      <td>2099</td>\n",
       "    </tr>\n",
       "    <tr>\n",
       "      <th>2</th>\n",
       "      <td>4024</td>\n",
       "      <td>2282</td>\n",
       "    </tr>\n",
       "    <tr>\n",
       "      <th>3</th>\n",
       "      <td>1447</td>\n",
       "      <td>2455</td>\n",
       "    </tr>\n",
       "    <tr>\n",
       "      <th>4</th>\n",
       "      <td>2274</td>\n",
       "      <td>7988</td>\n",
       "    </tr>\n",
       "  </tbody>\n",
       "</table>\n",
       "</div>"
      ],
      "text/plain": [
       "   site1  site2\n",
       "0    193    720\n",
       "1   8426   2099\n",
       "2   4024   2282\n",
       "3   1447   2455\n",
       "4   2274   7988"
      ]
     },
     "execution_count": 61,
     "metadata": {},
     "output_type": "execute_result"
    }
   ],
   "source": [
    "df4 = pd.read_csv('data/hw4.csv')\n",
    "df4.head()"
   ]
  },
  {
   "cell_type": "code",
   "execution_count": 63,
   "metadata": {
    "id": "fuoCJrgzVszS"
   },
   "outputs": [
    {
     "data": {
      "text/plain": [
       "ShapiroResult(statistic=0.8995055556297302, pvalue=1.3402153626884683e-06)"
      ]
     },
     "execution_count": 63,
     "metadata": {},
     "output_type": "execute_result"
    }
   ],
   "source": [
    "# Ваш код здесь\n",
    "#Проверим гипотезу о нормальности распределения данных в колонике site1\n",
    "\n",
    "stats.shapiro(df4.site1)\n",
    "\n",
    "#Т.к. p-value = 1.3402153626884683e-06, это намного меньше уровня значимости в 5%, то данные в колонке before \n",
    "#не распределены нормально"
   ]
  },
  {
   "cell_type": "code",
   "execution_count": 64,
   "metadata": {},
   "outputs": [
    {
     "data": {
      "text/plain": [
       "ShapiroResult(statistic=0.9372698068618774, pvalue=0.0001319019211223349)"
      ]
     },
     "execution_count": 64,
     "metadata": {},
     "output_type": "execute_result"
    }
   ],
   "source": [
    "#Проверим гипотезу о нормальности распределения данных в колонике site2\n",
    "\n",
    "stats.shapiro(df4.site2)\n",
    "\n",
    "#Т.к. p-value = pvalue=0.0001319019211223349, это намного меньше уровня значимости в 5%, то данные в колонке before \n",
    "#не распределены нормально\n",
    "#Кроме того, данные являются независимыми, т.к. один пользователь посетивший сайт1 не может посетить сайт2 и, наоборот"
   ]
  },
  {
   "cell_type": "code",
   "execution_count": 68,
   "metadata": {},
   "outputs": [
    {
     "data": {
      "text/plain": [
       "MannwhitneyuResult(statistic=3889.5, pvalue=0.0066646971976911905)"
      ]
     },
     "execution_count": 68,
     "metadata": {},
     "output_type": "execute_result"
    }
   ],
   "source": [
    "#Т.к. выборки не подчиняются нормальному закону распределения, а также являются независимыми, то применяем критерий\n",
    "#Манна-Уитни и two-tailed test\n",
    "\n",
    "stats.mannwhitneyu(df4.site1, df4.site2)\n",
    "\n",
    "#Критерий Манна_уитни проверяет, что распределение лежащее в основе выборки 1, \n",
    "#совпадает с распределением лежащим в основе выборки 2. Из-за небольшого значения p-value эта гипотеза опровергается, \n",
    "#т.е. эти распределения существенно различны. Ниже я определяю, на каком сайте средний чек выше.\n"
   ]
  },
  {
   "cell_type": "code",
   "execution_count": 69,
   "metadata": {},
   "outputs": [
    {
     "data": {
      "text/plain": [
       "MannwhitneyuResult(statistic=3889.5, pvalue=0.0033323485988455952)"
      ]
     },
     "execution_count": 69,
     "metadata": {},
     "output_type": "execute_result"
    }
   ],
   "source": [
    "stats.mannwhitneyu(df4.site1, df4.site2, alternative = 'less')"
   ]
  },
  {
   "cell_type": "code",
   "execution_count": 70,
   "metadata": {},
   "outputs": [
    {
     "data": {
      "text/plain": [
       "MannwhitneyuResult(statistic=3889.5, pvalue=0.9966921511057955)"
      ]
     },
     "execution_count": 70,
     "metadata": {},
     "output_type": "execute_result"
    }
   ],
   "source": [
    "stats.mannwhitneyu(df4.site1, df4.site2, alternative = 'greater')\n",
    "#Две последние строки говорят о том, что средний чек на сайте1 в среднем выше, чем на сайте2."
   ]
  },
  {
   "cell_type": "code",
   "execution_count": null,
   "metadata": {},
   "outputs": [],
   "source": []
  }
 ],
 "metadata": {
  "colab": {
   "collapsed_sections": [],
   "name": "21.7_Практическая работа.ipynb",
   "provenance": []
  },
  "kernelspec": {
   "display_name": "Python 3 (ipykernel)",
   "language": "python",
   "name": "python3"
  },
  "language_info": {
   "codemirror_mode": {
    "name": "ipython",
    "version": 3
   },
   "file_extension": ".py",
   "mimetype": "text/x-python",
   "name": "python",
   "nbconvert_exporter": "python",
   "pygments_lexer": "ipython3",
   "version": "3.11.5"
  }
 },
 "nbformat": 4,
 "nbformat_minor": 1
}
