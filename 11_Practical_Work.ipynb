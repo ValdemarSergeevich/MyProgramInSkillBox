{
 "cells": [
  {
   "cell_type": "markdown",
   "id": "194ee24b-50d1-4175-b37e-2e3f7e762269",
   "metadata": {
    "id": "194ee24b-50d1-4175-b37e-2e3f7e762269"
   },
   "source": [
    "# Чтение файлов в Python и командной строке. Практическая работа\n",
    "\n",
    "### Цели практической работы\n",
    "1. Научиться считывать информацию из файлов и совершать над ней операции с помощью кода на Python и командной строки.\n",
    "2. Закрепить навыки стыковки команд в конвейеры и установки внешних пакетов с помощью пакетного менеджера pip.\n",
    "\n",
    "### Что входит в практическую работу\n",
    "1. Работа с файлами в командной строке.\n",
    "2. Работа с файлами в Python 1.\n",
    "3. Работа с файлами в Python 2.\n",
    "4. Импортирование модулей.\n",
    "5. Установка внешних модулей через pip.\n",
    "6. Бонусное задание.\n",
    "\n",
    "### Что оценивается\n",
    "* Выполнены пять обязательных заданий, в каждом из них:\n",
    " * программа выполняет все описанные в задании действия;\n",
    " * результаты вычислений и применённых операций корректны;\n",
    " * стилизация кода соответствует рекомендациям [PEP 8](https://pythonworld.ru/osnovy/pep-8-rukovodstvo-po-napisaniyu-koda-na-python.html).\n",
    "\n",
    "\n",
    "### Как отправить работу на проверку\n",
    "Все задания собраны в один Jupyter Notebook. Выполните их, сохраните изменения при помощи опции Save and Checkpoint из вкладки меню File или кнопки Save and Checkpoint на панели инструментов. Отправьте итоговый файл Jupyter Notebook в формате IPYNB или ссылку на него через форму для сдачи практической работы.\n",
    "\n",
    "---"
   ]
  },
  {
   "cell_type": "markdown",
   "id": "a44f6df4",
   "metadata": {
    "id": "a44f6df4"
   },
   "source": [
    "## Задание 1. Работа с файлами в командной строке\n",
    "\n",
    "Ранее вы считали количество всех слов в рассказе А. П. Чехова «Анна на шее». Теперь необходимо определить, сколько раз каждое слово встречается в тексте.\n",
    "\n",
    "Вы уже знаете команды sort и uniq, умеете с их помощью считать количество уникальных строк в построчном файле. В результате у вас должен был получиться такой конвейер команд: `cat anna_words.txt | sort | uniq | wc -l`.\n",
    "\n",
    "Команда cat перенаправляет слова из файла в команду sort, которая сортирует слова и передаёт упорядоченный список в команду uniq. Последняя удаляет дубликаты и направляет список уникальных слов в команду wc −l, которая их считает.\n",
    "\n",
    "### Что нужно сделать\n",
    "\n",
    "Посчитайте количество уникальных слов и определите частоту встречаемости каждого слова. Информацию в виде `частота слово` сохраните в текстовый файл. Для этого:\n",
    "1. Измените конвейер команд так, чтобы он выводил слова и их частоту встречаемости на экран.\n",
    "2. Перенаправьте вывод конвейера в текстовый файл `words_freq.txt`.\n",
    "\n",
    "Если всё сделаете правильно, то получится текстовый файл `words_freq.txt`, в котором будут слова и их частота в виде:\n",
    "\n",
    "```\n",
    "...\n",
    "   1 по-прежнему\n",
    "   2 по-французски\n",
    "  40 аня\n",
    "   6 бал\n",
    "   1 бог\n",
    "   2 ваш\n",
    "   2 вид\n",
    "...\n",
    "```\n",
    "\n",
    "3. Скопируйте конвейер команд в ячейку, которая расположена непосредственно под этой.\n",
    "\n",
    "### Подсказки\n",
    "1. Ознакомьтесь с документацией команды uniq, обратите внимание на её ключ `-с`. Официальную документацию можно почитать прямо в командной строке: для этого выполните команду `man uniq`. Команда `man` (от англ. manual) выводит справку для команды, которая передаётся в man как аргумент. Если читать текст в терминале непривычно, то можете поискать информацию в интернете.\n",
    "\n",
    "2. Перенаправить вывод команды в bash можно с помощью символа `>`. О том, как это сделать, читайте в интернете. Например, в статье [**«Перенаправление ввода вывода Linux»**](https://losst.ru/perenapravlenie-vvoda-vyvoda-linux). "
   ]
  },
  {
   "cell_type": "markdown",
   "id": "ac416392",
   "metadata": {
    "id": "ac416392"
   },
   "source": [
    "### Вставьте конвейер команд, который у вас получился"
   ]
  },
  {
   "cell_type": "code",
   "execution_count": 1,
   "id": "b9b13546-4933-4e8c-b0a7-62ce13863320",
   "metadata": {
    "id": "b9b13546-4933-4e8c-b0a7-62ce13863320",
    "outputId": "ce4e0dfb-e91d-4337-984a-5d9811bb449b"
   },
   "outputs": [
    {
     "name": "stderr",
     "output_type": "stream",
     "text": [
      "\"pwd\" ­Ґ пў«пҐвбп ў­гваҐ­­Ґ© Ё«Ё ў­Ґи­Ґ©\n",
      "Є®¬ ­¤®©, ЁбЇ®«­пҐ¬®© Їа®Ја ¬¬®© Ё«Ё Ї ЄҐв­л¬ д ©«®¬.\n"
     ]
    }
   ],
   "source": [
    "!pwd "
   ]
  },
  {
   "cell_type": "raw",
   "id": "35aa50c3-7d4e-4667-8157-da4ad8761cdd",
   "metadata": {
    "id": "35aa50c3-7d4e-4667-8157-da4ad8761cdd"
   },
   "source": [
    "##\n",
    "## Вставьте конвейер команд сюда.\n",
    "##\n",
    "!cat anna_words.txt | sort | uniq -c > words_freq.txt"
   ]
  },
  {
   "cell_type": "code",
   "execution_count": 2,
   "id": "0b0a331f",
   "metadata": {},
   "outputs": [
    {
     "name": "stderr",
     "output_type": "stream",
     "text": [
      "\"cat\" ­Ґ пў«пҐвбп ў­гваҐ­­Ґ© Ё«Ё ў­Ґи­Ґ©\n",
      "Є®¬ ­¤®©, ЁбЇ®«­пҐ¬®© Їа®Ја ¬¬®© Ё«Ё Ї ЄҐв­л¬ д ©«®¬.\n"
     ]
    }
   ],
   "source": [
    "!cat anna_words.txt | sort | uniq -c > words_freq.txt"
   ]
  },
  {
   "cell_type": "code",
   "execution_count": null,
   "id": "c2e97cf3",
   "metadata": {},
   "outputs": [],
   "source": []
  },
  {
   "cell_type": "code",
   "execution_count": 3,
   "id": "8900980a",
   "metadata": {},
   "outputs": [
    {
     "data": {
      "text/plain": [
       "'C:\\\\Users\\\\A315-23-R7CZ'"
      ]
     },
     "execution_count": 3,
     "metadata": {},
     "output_type": "execute_result"
    }
   ],
   "source": [
    "pwd"
   ]
  },
  {
   "cell_type": "markdown",
   "id": "3952c1a6",
   "metadata": {
    "id": "3952c1a6"
   },
   "source": [
    "---\n",
    "\n",
    "## Задание 2. Работа с файлами в Python 1\n",
    "\n",
    "### Что нужно сделать\n",
    "В рассказе А. П. Чехова «Анна на шее» найдите десять слов, которые встречаются чаще всего. \n",
    "\n",
    "1. Напишите код на Python, который читает файл `word_freq.txt` по строкам, преобразует каждую из них в кортеж `(частота, слово)` и складывает полученные кортежи в список. \n",
    "2. Отсортируйте список по частотам, выведите на экран десять самых популярных слов и их частоты.\n",
    "\n",
    "### Подсказки\n",
    "1. Обратите внимание, что строки в файле содержат «лишние» символы: пробелы в начале и символ перевода строки в конце. Работать будет удобнее, если предварительно удалить их. Сделать это можно с помощью метода  `strip`. Ознакомьтесь с ним подробнее в [**официальной документации**](https://docs.python.org/3/library/stdtypes.html?highlight=strip#str.strip).\n",
    "\n",
    "2. Сейчас частота и слово — это одна строка, в которой они разделены пробелом. Их можно разделить с помощью метода [**`split`**](https://docs.python.org/3/library/stdtypes.html?highlight=split#str.split).\n",
    "\n",
    "3. Для сортировки в Python есть функция `sorted`. Она принимает на вход итерируемый объект, сравнивает его элементы между собой и возвращает итерируемый объект, который отсортирован. По умолчанию функция размещает элементы в порядке возрастания. Например, `sorted([2, 4, 1, 0])` вернёт `[0, 1, 2, 4]`. Подробнее про работу функции можно почитать в [**официальной документации**](https://docs.python.org/3/library/functions.html?highlight=sorted#sorted)"
   ]
  },
  {
   "cell_type": "code",
   "execution_count": 4,
   "id": "c98e4d0b",
   "metadata": {
    "id": "c98e4d0b"
   },
   "outputs": [
    {
     "data": {
      "text/plain": [
       "[(40, 'аня'),\n",
       " (28, 'свой'),\n",
       " (19, 'говорить'),\n",
       " (17, 'это'),\n",
       " (17, 'сказать'),\n",
       " (17, 'модест'),\n",
       " (17, 'который'),\n",
       " (17, 'алексеич'),\n",
       " (16, 'человек'),\n",
       " (16, 'рука')]"
      ]
     },
     "execution_count": 4,
     "metadata": {},
     "output_type": "execute_result"
    }
   ],
   "source": [
    "##\n",
    "## Вставьте свой код сюда\n",
    "##\n",
    "all_words = []\n",
    "words = tuple()\n",
    "with open('C:\\\\Users\\\\A315-23-R7CZ\\\\Module_cmd\\\\words_freq.txt',  encoding = 'utf-8') as file:\n",
    "    for word in file.readlines():\n",
    "        word = word.strip()\n",
    "        word1 = word.split()\n",
    "        words = (int(word1[0]), str(word1[1]))\n",
    "        all_words.append(words)\n",
    "#print(all_words)\n",
    "top_10_max = []\n",
    "all_words = sorted(all_words)[::-1]\n",
    "for i in range(0,10):\n",
    "    top_10_max.append(all_words[i])\n",
    "top_10_max\n",
    "        \n",
    "    \n",
    "    "
   ]
  },
  {
   "cell_type": "markdown",
   "id": "8639569c",
   "metadata": {
    "id": "8639569c"
   },
   "source": [
    "---\n",
    "\n",
    "## Задание 3. Работа с файлами в Python 2\n",
    "\n",
    "### Что нужно сделать\n",
    "Найдите букву, с которой чаще всего начинаются слова в рассказе А. П. Чехова «Анна на шее». \n",
    "1. Используйте файл с частотами слов `words_freq.txt`. \n",
    "2. Напишите код в Python, который выводит на экран самую популярную первую букву и количество слов на неё.\n",
    "\n",
    "\n",
    "### Подсказки\n",
    "Скорее всего, вы будете искать в словаре ключ с максимальным значением. Чтобы упростить работу, отсортируйте словарь. Сортировать словарь по значениям сложнее, чем список объектов, которые можно сравнивать непосредственно. Обратите внимание на параметр key функции [**sorted**](https://docs.python.org/3/library/functions.html?highlight=sorted#sorted)."
   ]
  },
  {
   "cell_type": "code",
   "execution_count": 5,
   "id": "6da9050c",
   "metadata": {
    "id": "6da9050c"
   },
   "outputs": [
    {
     "name": "stdout",
     "output_type": "stream",
     "text": [
      "п:318\n"
     ]
    }
   ],
   "source": [
    "##\n",
    "## Вставьте свой код сюда\n",
    "##\n",
    "number_of_letters = {}\n",
    "dict_words = {}\n",
    "alphabet = set()\n",
    "with open('C:\\\\Users\\\\A315-23-R7CZ\\\\Module_cmd\\\\words_freq.txt',  encoding = 'utf-8') as file:\n",
    "    for word in file.readlines():\n",
    "        word = word.strip(',- ').split()\n",
    "        dict_words[word[1]] = int(word[0])\n",
    "    #print(dict_words)\n",
    "    for word2 in dict_words.keys():\n",
    "        for letter in word2[0]:\n",
    "            alphabet.add(letter)\n",
    "    alphabet = sorted(alphabet)\n",
    "    #print(alphabet)\n",
    "    for i in alphabet:\n",
    "        j = 0\n",
    "        for k, v in dict_words.items():\n",
    "            if k[0] == i:\n",
    "                j += v\n",
    "        number_of_letters[i] = j\n",
    "        get_key = max(number_of_letters, key = number_of_letters.get)\n",
    "        max_value = max(number_of_letters.values())\n",
    "    print(f'{get_key}:{max_value}')"
   ]
  },
  {
   "cell_type": "markdown",
   "id": "b94a18e9",
   "metadata": {
    "id": "b94a18e9"
   },
   "source": [
    "---\n",
    "\n",
    "## Задание 4. Импортирование модулей\n",
    "\n",
    "###Что нужно сделать\n",
    "Напишите функцию `circ_sqrt`. Она должна принимать один параметр `r` типа `float` и возвращать квадратный корень из длины окружности радиуса `r`.\n",
    "\n",
    "### Подсказки\n",
    "- Используйте функции встроенного модуля math.\n",
    "- В работе функции учтите область определения квадратного корня."
   ]
  },
  {
   "cell_type": "code",
   "execution_count": 38,
   "id": "f9ddadb6",
   "metadata": {
    "id": "f9ddadb6"
   },
   "outputs": [
    {
     "name": "stdout",
     "output_type": "stream",
     "text": [
      "Длина окружности радиуса r = 5 равна l = 2 * pi * r = 31.41592653589793\n",
      "Корень квадратный из длины окружности l = 31.41592653589793 равен 5.605\n"
     ]
    },
    {
     "data": {
      "text/plain": [
       "5.605"
      ]
     },
     "execution_count": 38,
     "metadata": {},
     "output_type": "execute_result"
    }
   ],
   "source": [
    "import math\n",
    "\n",
    "\n",
    "def circ_sqrt(r):\n",
    "    ##\n",
    "    ## Вставьте ваш код сюда\n",
    "    ##\n",
    "   \n",
    "    if r >= 0:\n",
    "        l = 2 * math.pi * r\n",
    "        print(f'Длина окружности радиуса r = {r} равна l = 2 * pi * r = {l}')\n",
    "        sqr_l = round(l ** 0.5, 3)\n",
    "        print(f'Корень квадратный из длины окружности l = {l} равен {sqr_l}')\n",
    "        return sqr_l\n",
    "    else:\n",
    "        return print('Решение не имеет действительного корня')\n",
    "        \n",
    "    \n",
    "## Вызовите функцию здесь\n",
    "circ_sqrt(5)"
   ]
  },
  {
   "cell_type": "markdown",
   "id": "73df457b",
   "metadata": {
    "id": "73df457b"
   },
   "source": [
    "---\n",
    "\n",
    "## Задание 5. Установка внешних модулей через pip\n",
    "\n",
    "### Что нужно сделать\n",
    "\n",
    "Установите пакеты из PyPi с помощью пакетного менеджера pip и используйте их в коде. \n",
    "1. Установите пакет `cowsay`.\n",
    "2. Установите в систему пакет `wikipedia` — Python API для очень популярной онлайн-энциклопедии.\n",
    "3. Напишите функцию `random_article`, которая выводит на экран очень умную корову. Корова должна «рассказывать» краткое содержание случайной статьи из «Википедии» на английском языке.\n",
    "\n",
    "\n",
    "### Подсказки\n",
    "\n",
    "Вам понадобятся следующие функции пакета `wikipedia`:\n",
    "\n",
    "* [**wikipedia.random**](https://wikipedia.readthedocs.io/en/latest/code.html#wikipedia.random)\n",
    "* [**wikipedia.summary**](https://wikipedia.readthedocs.io/en/latest/code.html#wikipedia.summary)"
   ]
  },
  {
   "cell_type": "code",
   "execution_count": 7,
   "id": "f434a51d",
   "metadata": {},
   "outputs": [
    {
     "name": "stdout",
     "output_type": "stream",
     "text": [
      "Requirement already satisfied: wikipedia in c:\\users\\a315-23-r7cz\\anaconda3\\lib\\site-packages (1.4.0)\n",
      "Requirement already satisfied: beautifulsoup4 in c:\\users\\a315-23-r7cz\\anaconda3\\lib\\site-packages (from wikipedia) (4.12.2)\n",
      "Requirement already satisfied: requests<3.0.0,>=2.0.0 in c:\\users\\a315-23-r7cz\\anaconda3\\lib\\site-packages (from wikipedia) (2.31.0)\n",
      "Requirement already satisfied: charset-normalizer<4,>=2 in c:\\users\\a315-23-r7cz\\anaconda3\\lib\\site-packages (from requests<3.0.0,>=2.0.0->wikipedia) (2.0.4)\n",
      "Requirement already satisfied: idna<4,>=2.5 in c:\\users\\a315-23-r7cz\\anaconda3\\lib\\site-packages (from requests<3.0.0,>=2.0.0->wikipedia) (3.4)\n",
      "Requirement already satisfied: urllib3<3,>=1.21.1 in c:\\users\\a315-23-r7cz\\anaconda3\\lib\\site-packages (from requests<3.0.0,>=2.0.0->wikipedia) (1.26.16)\n",
      "Requirement already satisfied: certifi>=2017.4.17 in c:\\users\\a315-23-r7cz\\anaconda3\\lib\\site-packages (from requests<3.0.0,>=2.0.0->wikipedia) (2023.11.17)\n",
      "Requirement already satisfied: soupsieve>1.2 in c:\\users\\a315-23-r7cz\\anaconda3\\lib\\site-packages (from beautifulsoup4->wikipedia) (2.4)\n"
     ]
    }
   ],
   "source": [
    "! pip install wikipedia"
   ]
  },
  {
   "cell_type": "code",
   "execution_count": 8,
   "id": "45e040e9",
   "metadata": {},
   "outputs": [
    {
     "name": "stdout",
     "output_type": "stream",
     "text": [
      "  _________________________________________________\n",
      " /                                                 \\\n",
      "| The Silver Logie for Most Outstanding News Covera |\n",
      "| ge or Public Affairs Report is an award presented |\n",
      "|  annually at the Australian TV Week Logie Awards. |\n",
      "|  The award is given to recognise outstanding news |\n",
      "|  or public affairs reporting.The first award for  |\n",
      "| news coverage was awarded at the 12th Annual TV W |\n",
      "| eek Logie Awards ceremony, held in 1970 as Best N |\n",
      "| ews Reporting. In 1971, two awards were presented |\n",
      "|  for Most Outstanding News Coverage and Most Outs |\n",
      "| tanding Coverage Of Political Affairs with the la |\n",
      "| tter changed to Outstanding Contribution To TV Jo |\n",
      "| urnalism the following year. From 1973 they were  |\n",
      "| Best News Coverage and Best Public Affairs Progra |\n",
      "| m. Over the years, these award categories have ch |\n",
      "| anged to recognise news reports, news or public a |\n",
      "| ffairs programs, special reports or public affair |\n",
      "| s reports.                                        |\n",
      "| At the 60th Annual TV Week Logie Awards in 2018,  |\n",
      "| the industry voted awards for news and public aff |\n",
      "| airs Most Outstanding News Coverage and Most Outs |\n",
      "| tanding Public Affairs Report were combined to cr |\n",
      "| eate the award for Most Outstanding News Coverage |\n",
      "|  or Public Affairs Report.                        |\n",
      " \\                                                 /\n",
      "  =================================================\n",
      "                                                 \\\n",
      "                                                  \\\n",
      "                                                    ^__^\n",
      "                                                    (oo)\\_______\n",
      "                                                    (__)\\       )\\/\\\n",
      "                                                        ||----w |\n",
      "                                                        ||     ||\n"
     ]
    }
   ],
   "source": [
    "import wikipedia\n",
    "import cowsay\n",
    "cowsay.cow(wikipedia.summary(wikipedia.random()))"
   ]
  },
  {
   "cell_type": "markdown",
   "id": "af263b7d",
   "metadata": {
    "id": "af263b7d"
   },
   "source": [
    "---\n",
    "\n",
    "## Задание 6. Бонусное\n",
    "\n",
    "### Что нужно сделать\n",
    "\n",
    "Выясните, как слова в рассказе «Анна на шее» распределяются по длине. \n",
    "\n",
    "1. Посчитайте, сколько слов длины 1, 2 и так далее в файле anna_words.txt.\n",
    "\n",
    "2. Выведите на экран информацию в формате `длина количество_слов`, отсортируйте её по возрастанию длины.\n",
    "\n",
    "3. Перенесите вывод программы в Excel или Google Таблицы и постройте столбчатую диаграмму. \n",
    "\n",
    "4. Сравните ваш график с [распределением русских слов по длине](http://nskhuman.ru/unislov/statist.php?nstat=21). В гистограмме по ссылке больше данных, поэтому она лучше показывает соотношение длины слов и их количества в русском языке.\n",
    "\n",
    "### Советы и рекомендации\n",
    "Вероятнее всего, вы снова будете использовать словарь. Ключами в нём будет длина слов, а значениями — количество слов этой длины. Обратите внимание, что словарь нужно сортировать по ключам, а не по значениям, как вы делали ранее."
   ]
  },
  {
   "cell_type": "code",
   "execution_count": 37,
   "id": "31cd934a",
   "metadata": {
    "id": "31cd934a"
   },
   "outputs": [],
   "source": [
    "##\n",
    "## Вставьте свой код сюда\n",
    "##\n",
    "import pandas as pd\n",
    "all_words = {}\n",
    "all_data = {}\n",
    "with open('C:\\\\Users\\\\A315-23-R7CZ\\\\Module_cmd\\\\anna_words.txt',  encoding = 'utf-8') as file:\n",
    "    words = file.readlines()\n",
    "    for word in words:\n",
    "        splitted_word = word.strip(',').split()[0]\n",
    "        lenght = len(splitted_word)\n",
    "        if lenght in all_words:\n",
    "            all_words[lenght] += 1\n",
    "        else:\n",
    "            all_words[lenght] = 1\n",
    "all_data = sorted(all_words.items(), key = lambda item : item [0])\n",
    "data = pd.DataFrame.from_dict(all_data)\n",
    "data.to_excel(\"C:\\\\Users\\\\A315-23-R7CZ\\\\Module_cmd\\\\count_anna_words.xlsx\")"
   ]
  },
  {
   "cell_type": "code",
   "execution_count": null,
   "id": "8fea8783",
   "metadata": {},
   "outputs": [],
   "source": []
  }
 ],
 "metadata": {
  "colab": {
   "collapsed_sections": [],
   "provenance": []
  },
  "kernelspec": {
   "display_name": "Python 3 (ipykernel)",
   "language": "python",
   "name": "python3"
  },
  "language_info": {
   "codemirror_mode": {
    "name": "ipython",
    "version": 3
   },
   "file_extension": ".py",
   "mimetype": "text/x-python",
   "name": "python",
   "nbconvert_exporter": "python",
   "pygments_lexer": "ipython3",
   "version": "3.11.5"
  }
 },
 "nbformat": 4,
 "nbformat_minor": 5
}
